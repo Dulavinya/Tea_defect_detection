{
  "nbformat": 4,
  "nbformat_minor": 0,
  "metadata": {
    "colab": {
      "provenance": [],
      "authorship_tag": "ABX9TyPDbzzc0CbvqpXJ/J3Sviuc",
      "include_colab_link": true
    },
    "kernelspec": {
      "name": "python3",
      "display_name": "Python 3"
    },
    "language_info": {
      "name": "python"
    }
  },
  "cells": [
    {
      "cell_type": "markdown",
      "metadata": {
        "id": "view-in-github",
        "colab_type": "text"
      },
      "source": [
        "<a href=\"https://colab.research.google.com/github/Dulavinya/Tea_defect_detection/blob/main/Fertilizer_Deficiency_Detection.ipynb\" target=\"_parent\"><img src=\"https://colab.research.google.com/assets/colab-badge.svg\" alt=\"Open In Colab\"/></a>"
      ]
    },
    {
      "cell_type": "code",
      "execution_count": 1,
      "metadata": {
        "id": "kZ2lJ9va3WLt"
      },
      "outputs": [],
      "source": [
        "\n",
        "import numpy as np\n",
        "import matplotlib.pyplot as plt\n",
        "import seaborn as sns\n",
        "import os\n",
        "import cv2\n",
        "import re\n",
        "import requests\n",
        "import csv\n",
        "import tensorflow as tf\n",
        "import math\n",
        "import random\n",
        "\n",
        "from sklearn.metrics import confusion_matrix,  multilabel_confusion_matrix\n",
        "from sklearn.preprocessing import MultiLabelBinarizer\n",
        "from sklearn.model_selection import train_test_split\n",
        "\n",
        "from keras.utils import img_to_array\n",
        "from keras.models import Sequential\n",
        "from keras.layers import Conv2D, Dense, Flatten, MaxPooling2D\n",
        "from keras.layers import BatchNormalization, Activation, Dropout\n",
        "from keras.callbacks import ModelCheckpoint , EarlyStopping\n",
        "from keras.utils import Sequence"
      ]
    },
    {
      "cell_type": "code",
      "source": [
        "import sys\n",
        "print(\"python version :\",sys.version)\n",
        "print(\"tensorflow version :\",tf.__version__)"
      ],
      "metadata": {
        "colab": {
          "base_uri": "https://localhost:8080/"
        },
        "id": "U-UZkIqg3nar",
        "outputId": "7811f08e-7cba-4b7b-b094-9b7f8a543cc1"
      },
      "execution_count": 2,
      "outputs": [
        {
          "output_type": "stream",
          "name": "stdout",
          "text": [
            "python version : 3.12.11 (main, Jun  4 2025, 08:56:18) [GCC 11.4.0]\n",
            "tensorflow version : 2.19.0\n"
          ]
        }
      ]
    },
    {
      "cell_type": "code",
      "source": [
        "from typing import Tuple\n",
        "\n",
        "class Dataset(Sequence):\n",
        "    def __init__(self, paths: str, batch_size: int,input_shape:Tuple[int,int,int]):\n",
        "        super(Dataset, self).__init__()\n",
        "        self.batch_size = batch_size\n",
        "        self.__data = paths\n",
        "        self.classes = []\n",
        "        self.image_size=input_shape\n",
        "        self.__labels = self.__list_labels(self.__data)\n",
        "\n",
        "\n",
        "\n",
        "    def __len__(self):\n",
        "        return math.ceil(len(self.__data) / self.batch_size)\n",
        "\n",
        "    def __getitem__(self, idx):\n",
        "        batch_x = self.__data[idx * self.batch_size:(idx + 1) * self.batch_size]\n",
        "        batch_y = self.__labels[idx * self.batch_size:(idx + 1) * self.batch_size]\n",
        "        return np.array([self.__load_image(i) for i in batch_x]), np.array(batch_y)\n",
        "\n",
        "    def __list_labels(self, paths: list):\n",
        "        labels = []\n",
        "        for path in paths:\n",
        "            #label = path.split(os.path.sep)[-2].split('_')\n",
        "            label = path.split(os.path.sep)[-2].split(' ')\n",
        "            labels.append(label)\n",
        "\n",
        "        mlb = MultiLabelBinarizer()\n",
        "        labels = mlb.fit_transform(labels)\n",
        "        self.classes = mlb.classes_\n",
        "\n",
        "        return labels\n",
        "\n",
        "    @staticmethod\n",
        "    def __load_image(path: str):\n",
        "        img = cv2.imread(path)\n",
        "        img = cv2.resize(img, (input_shape[0],input_shape[1]))\n",
        "        img = cv2.cvtColor(img, cv2.COLOR_BGR2RGB)\n",
        "        return img / 255.0\n"
      ],
      "metadata": {
        "id": "MqZo983p3_K-"
      },
      "execution_count": 6,
      "outputs": []
    },
    {
      "cell_type": "code",
      "source": [
        "from google.colab import drive\n",
        "drive.mount('/content/drive')"
      ],
      "metadata": {
        "id": "tN0cD2Mg4I0X"
      },
      "execution_count": null,
      "outputs": []
    }
  ]
}