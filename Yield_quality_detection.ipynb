{
  "nbformat": 4,
  "nbformat_minor": 0,
  "metadata": {
    "colab": {
      "provenance": [],
      "authorship_tag": "ABX9TyMPD1dySzIb6g+4wf4vMzKq",
      "include_colab_link": true
    },
    "kernelspec": {
      "name": "python3",
      "display_name": "Python 3"
    },
    "language_info": {
      "name": "python"
    }
  },
  "cells": [
    {
      "cell_type": "markdown",
      "metadata": {
        "id": "view-in-github",
        "colab_type": "text"
      },
      "source": [
        "<a href=\"https://colab.research.google.com/github/Dulavinya/Tea_defect_detection/blob/main/Yield_quality_detection.ipynb\" target=\"_parent\"><img src=\"https://colab.research.google.com/assets/colab-badge.svg\" alt=\"Open In Colab\"/></a>"
      ]
    },
    {
      "cell_type": "code",
      "execution_count": null,
      "metadata": {
        "id": "6gOfYSIorPVc"
      },
      "outputs": [],
      "source": [
        "\n",
        "\n",
        "# 3. Install Ultr////////////'alytics ###\n",
        "\n",
        "!pip install ultralytics\n"
      ]
    },
    {
      "cell_type": "code",
      "source": [
        "from google.colab import drive\n",
        "drive.mount('/content/drive')"
      ],
      "metadata": {
        "colab": {
          "base_uri": "https://localhost:8080/"
        },
        "id": "3kaR9vfVGbbT",
        "outputId": "526e28bd-04ff-4cf5-ea77-12bbb83a6058"
      },
      "execution_count": null,
      "outputs": [
        {
          "output_type": "stream",
          "name": "stdout",
          "text": [
            "Mounted at /content/drive\n"
          ]
        }
      ]
    },
    {
      "cell_type": "code",
      "source": [
        "\n",
        "\n",
        "\n",
        "!unzip -q \"{zip_path}\" -d ./FER"
      ],
      "metadata": {
        "colab": {
          "base_uri": "https://localhost:8080/"
        },
        "id": "KWQuRmbfGrL9",
        "outputId": "07f27a20-13f6-4bd6-9952-ae47476fffc7"
      },
      "execution_count": null,
      "outputs": [
        {
          "metadata": {
            "tags": null
          },
          "name": "stdout",
          "output_type": "stream",
          "text": [
            "replace ./FER/README.dataset.txt? [y]es, [n]o, [A]ll, [N]one, [r]ename: "
          ]
        }
      ]
    },
    {
      "cell_type": "code",
      "source": [
        "\n",
        "\n",
        "!pip install pyyaml"
      ],
      "metadata": {
        "colab": {
          "base_uri": "https://localhost:8080/"
        },
        "id": "fUSwwtbLGx6-",
        "outputId": "1a9a4494-d85d-4183-e2b0-883846b8a397"
      },
      "execution_count": null,
      "outputs": [
        {
          "output_type": "stream",
          "name": "stdout",
          "text": [
            "Requirement already satisfied: pyyaml in /usr/local/lib/python3.12/dist-packages (6.0.2)\n"
          ]
        }
      ]
    },
    {
      "cell_type": "code",
      "source": [
        "\n",
        "import yaml\n",
        "\n",
        "file_path = './FER/data.yaml'\n",
        "\n",
        "with open(file_path, 'r') as file:\n",
        "    data = yaml.safe_load(file)\n",
        "\n",
        "print(data)\n"
      ],
      "metadata": {
        "colab": {
          "base_uri": "https://localhost:8080/"
        },
        "id": "hOeSHUsHG1MW",
        "outputId": "fc6c18e9-dbe4-463d-d065-bedf5ef4dfdd"
      },
      "execution_count": null,
      "outputs": [
        {
          "output_type": "stream",
          "name": "stdout",
          "text": [
            "{'train': '../train/images', 'val': '../valid/images', 'test': '../test/images', 'nc': 1, 'names': ['leaves'], 'roboflow': {'workspace': 'children-and-adults-detection', 'project': 'leaves-detection-taesc', 'version': 2, 'license': 'CC BY 4.0', 'url': 'https://universe.roboflow.com/children-and-adults-detection/leaves-detection-taesc/dataset/2'}}\n"
          ]
        }
      ]
    },
    {
      "cell_type": "code",
      "source": [
        "\n",
        "classes=data[\"names\"]\n",
        "print(classes)\n",
        "\n"
      ],
      "metadata": {
        "id": "tk0XgtOXHIuv"
      },
      "execution_count": null,
      "outputs": []
    },
    {
      "cell_type": "code",
      "source": [
        "\n",
        "\n",
        "dict_classes={}\n",
        "for i, j in enumerate(classes):\n",
        "  dict_classes[i]=j\n",
        "print(dict_classes)\n",
        "\n",
        "\n",
        "updated_dict = {key: int(value) if value.isdigit() else value for key, value in dict_classes.items()}\n",
        "\n",
        "print(updated_dict)"
      ],
      "metadata": {
        "id": "SSMDtzX-HMoz"
      },
      "execution_count": null,
      "outputs": []
    },
    {
      "cell_type": "code",
      "source": [
        "\n",
        "\n",
        "%%writefile '.FER/growth_stage_detection_config.yaml'\n",
        "\n",
        "path: './FER' # dataset root dir\n",
        "train: train # train images (relative to 'path')\n",
        "val: valid  # val images (relative to 'path')\n",
        "\n",
        "names:\n",
        "  0: 'high'\n",
        "  1: 'law'\n",
        "  2: 'medium'\n"
      ],
      "metadata": {
        "id": "X7BAO54rHRMn"
      },
      "execution_count": null,
      "outputs": []
    },
    {
      "cell_type": "code",
      "source": [
        "### 2. Define root directory ###\n",
        "root_dir= './FER'"
      ],
      "metadata": {
        "id": "qhp2vEj9OtAc"
      },
      "execution_count": null,
      "outputs": []
    },
    {
      "cell_type": "code",
      "source": [
        "import os\n",
        "\n",
        "from ultralytics import YOLO\n",
        "\n",
        "\n",
        "# Load a model\n",
        "model = YOLO(\"yolov8s.pt\")  # load pre trained model\n",
        "\n",
        "# Use the model\n",
        "results = model.train(data=os.path.join(root_dir, \"growth_stage_detection_config.yaml\"), epochs=100,imgsz=640,patience=50,batch=0.70,device=0,\n",
        "                      degrees=90)  # train the model\n",
        ""
      ],
      "metadata": {
        "id": "KZFBLvdrOwkP"
      },
      "execution_count": null,
      "outputs": []
    },
    {
      "cell_type": "code",
      "source": [
        "from ultralytics import YOLO\n",
        "\n",
        "# Load a model\n",
        "model = YOLO(\"/content/runs/detect/train/weights/best.pt\")  # load a custom model\n",
        "\n",
        "# Validate the model\n",
        "metrics = model.val()  # no arguments needed, dataset and settings remembered\n",
        "print(metrics.box.map)  # map50-95\n",
        "print(metrics.box.map50)  # map50\n",
        "print(metrics.box.map75)  # map75\n",
        "print(metrics.box.maps) # a list contains map50-95 of each category"
      ],
      "metadata": {
        "id": "hZ1pgIeJO1GN"
      },
      "execution_count": null,
      "outputs": []
    },
    {
      "cell_type": "code",
      "source": [
        "from ultralytics import YOLO\n",
        "\n",
        "# Load a model\n",
        "model = YOLO(\"/content/runs/detect/train/weights/best.pt\")\n",
        "\n",
        "# Customize validation settings\n",
        "validation_results = model.val(data=os.path.join(root_dir, \"growth_stage_detection_config.yaml\"), imgsz=640, batch=16, conf=0.25, iou=0.6, device=\"0\")\n",
        ""
      ],
      "metadata": {
        "id": "8yF_jubpO3ln"
      },
      "execution_count": null,
      "outputs": []
    },
    {
      "cell_type": "code",
      "source": [
        "\n",
        "from ultralytics import YOLO\n",
        "\n",
        "# Load a model\n",
        "#model = YOLO(\"yolov8n.pt\")  # pretrained YOLOv8n model\n",
        "#model = YOLO(\"yolov8n.pt\")\n",
        "model_path=\"/content/runs/detect/train/weights/best.pt\"\n",
        "\n",
        "# Load a model\n",
        "model = YOLO(model_path)  # load a custom model\n",
        "\n",
        "# Run batched inference on a list of images\n",
        "results = model(\"./FER/train/images/\")\n",
        "  # return a generator of Results objects\n",
        "\n",
        "\n",
        "# Process results generator\n",
        "for result in results:\n",
        "    predict_out = result.boxes.data.tolist()\n",
        "    print(predict_out)  # Boxes object for bounding box outputs\n",
        "    result.show()  # display to screen\n",
        "    result.save(filename=\"result.jpg\")  # save to disk\n",
        ""
      ],
      "metadata": {
        "id": "CYkNoi6oO7e7"
      },
      "execution_count": null,
      "outputs": []
    },
    {
      "cell_type": "code",
      "source": [
        "results = model(\"./FER/test/images/\")\n",
        "\n",
        "\n",
        "\n",
        "# Process results generator\n",
        "for result in results:\n",
        "    predict_out = result.boxes.data.tolist()\n",
        "    print(predict_out)  # Boxes object for bounding box outputs\n",
        "    result.show()  # display to screen\n",
        "    result.save(filename=\"result.jpg\")  # save to disk"
      ],
      "metadata": {
        "id": "Y-tNqnoqO-s-"
      },
      "execution_count": null,
      "outputs": []
    },
    {
      "cell_type": "code",
      "source": [
        "\n",
        "\n",
        "### 5. Copy results ###\n",
        "import subprocess\n",
        "\n",
        "# Set environment variables and run the scp command\n",
        "\n",
        "command = \"scp -r /content/runs/detect/train '/content/drive/MyDrive/Work_space/Project/Harvest_pro/function2'\"\n",
        "process = subprocess.Popen(command, shell=True, env={\"LC_ALL\": \"C.UTF-8\", \"LANG\": \"C.UTF-8\"})\n",
        "process.wait()"
      ],
      "metadata": {
        "id": "tPrbxOIGPA2I"
      },
      "execution_count": null,
      "outputs": []
    }
  ]
}